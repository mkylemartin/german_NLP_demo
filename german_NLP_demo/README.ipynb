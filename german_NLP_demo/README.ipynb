{
 "cells": [
  {
   "cell_type": "markdown",
   "metadata": {},
   "source": [
    "# German Natural Language Processing\n",
    "## 9 Oct 2018"
   ]
  },
  {
   "cell_type": "markdown",
   "metadata": {},
   "source": [
    "###  Installation Instructions\n",
    "**Install Python** (https://www.python.org/downloads/)\n",
    "\n",
    "- _Make sure and check the box that you want Python installed on your PATH._\n",
    "\n",
    "\n",
    "**Use the `pip` command** to install the following packages (just copy/paste): \n",
    "\n",
    "\n",
    "- `pip install pyenchant numpy pandas`\n",
    "\n",
    "- _(Note: you might have to use `pip3` instead of `pip` on Mac OS)_\n",
    "\n",
    "Now we'll install a library called `spacy`:\n",
    "\n",
    "- `pip install -U spacy`\n",
    "\n",
    "And now install the `de` module, which contains all the required German data:\n",
    "\n",
    "- `python -m spacy download de`"
   ]
  },
  {
   "cell_type": "markdown",
   "metadata": {},
   "source": [
    "### Usage Instruction\n",
    "\n",
    "Make sure that the file you would like to analyze is in a `.txt` format. \n",
    "\n",
    "Put the text file in the folder that contains the `text_analyze.py` file.\n",
    "\n",
    "Type the following command into your terminal window:\n",
    "- `python3 text_analyze.py`\n",
    "\n",
    "Type the file name (including the `.txt` extension) into the terminal and type `[ENTER]`"
   ]
  },
  {
   "cell_type": "markdown",
   "metadata": {},
   "source": [
    "### Customization\n",
    "\n",
    "Change the variables in the `result_dict` on line 27 in `text_analyze.py` to modify the output. The default output should include the following:\n",
    "```\n",
    "spell_checker\n",
    "sentence_count\n",
    "ttr\n",
    "cttr\n",
    "ttr-lemma\n",
    "ttr-NOUN\n",
    "word_count\n",
    "words_per_sentence\n",
    "words_per_sentence_no_stop_words\n",
    "not_stop_words\n",
    "stop_words\n",
    "mispelled_words```"
   ]
  }
 ],
 "metadata": {
  "kernelspec": {
   "display_name": "Python 3",
   "language": "python",
   "name": "python3"
  },
  "language_info": {
   "codemirror_mode": {
    "name": "ipython",
    "version": 3
   },
   "file_extension": ".py",
   "mimetype": "text/x-python",
   "name": "python",
   "nbconvert_exporter": "python",
   "pygments_lexer": "ipython3",
   "version": "3.6.5"
  }
 },
 "nbformat": 4,
 "nbformat_minor": 2
}
